{
  "nbformat": 4,
  "nbformat_minor": 0,
  "metadata": {
    "colab": {
      "provenance": [],
      "collapsed_sections": [
        "C7mCQTlscQpo",
        "HX5jw--GQ4zD"
      ]
    },
    "kernelspec": {
      "name": "python3",
      "display_name": "Python 3"
    },
    "language_info": {
      "name": "python"
    }
  },
  "cells": [
    {
      "cell_type": "markdown",
      "source": [
        "# Program 1 : Ways to read and write data in a file"
      ],
      "metadata": {
        "id": "C7mCQTlscQpo"
      }
    },
    {
      "cell_type": "markdown",
      "source": [
        "**Part 1**: Writing to Files\n"
      ],
      "metadata": {
        "id": "5G_sBkdxcemF"
      }
    },
    {
      "cell_type": "code",
      "execution_count": 1,
      "metadata": {
        "colab": {
          "base_uri": "https://localhost:8080/"
        },
        "id": "vxKrLhExcIOd",
        "outputId": "6c759312-9dab-4028-e996-9a6d03576ac0"
      },
      "outputs": [
        {
          "output_type": "stream",
          "name": "stdout",
          "text": [
            "\n",
            "sample1.txt created with initial content\n",
            "\n",
            "sample2.txt created with multiple lines\n"
          ]
        }
      ],
      "source": [
        "# 1. Writing to a file using write mode ('w')\n",
        "with open('sample1.txt', 'w') as file:\n",
        "    file.write(\"Hello, this is Aakash with Roll No.: 2211002\\n\")\n",
        "    file.write(\"Jack Sparrow : Call me Captain Savyyy.\\n\")\n",
        "    file.write(\"ExCommunicado - John Wick\\n\")\n",
        "\n",
        "print(\"\\nsample1.txt created with initial content\\n\")\n",
        "\n",
        "# 2. Writing multiple lines at once using writelines()\n",
        "lines = [\n",
        "    \"Mahool pura wavyy\\n\",\n",
        "    \"B.Tech Aiml 6th Sem\\n\",\n",
        "    \"<--.|.-->\\n\"\n",
        "]\n",
        "\n",
        "with open('sample2.txt', 'w') as file:\n",
        "    file.writelines(lines)\n",
        "\n",
        "print(\"sample2.txt created with multiple lines\")"
      ]
    },
    {
      "cell_type": "markdown",
      "source": [
        "**Part 2**: Reading from Files\n"
      ],
      "metadata": {
        "id": "Y5OfsnR9csJx"
      }
    },
    {
      "cell_type": "code",
      "source": [
        "# 4. Reading entire content at once\n",
        "print(\"\\nReading entire content of sample1.txt:\")\n",
        "with open('sample1.txt', 'r') as file:\n",
        "    content = file.read()\n",
        "    print(content)\n",
        "\n",
        "# 5. Reading line by line\n",
        "print(\"\\nReading sample2.txt line by line:\")\n",
        "with open('sample2.txt', 'r') as file:\n",
        "    for line in file:\n",
        "        print(line.strip())"
      ],
      "metadata": {
        "colab": {
          "base_uri": "https://localhost:8080/"
        },
        "id": "ze7LQdQ_cuGo",
        "outputId": "7ae24b2f-96f7-44c6-ffe9-2f0000dcd3ed"
      },
      "execution_count": 2,
      "outputs": [
        {
          "output_type": "stream",
          "name": "stdout",
          "text": [
            "\n",
            "Reading entire content of sample1.txt:\n",
            "Hello, this is Aakash with Roll No.: 2211002\n",
            "Jack Sparrow : Call me Captain Savyyy.\n",
            "ExCommunicado - John Wick\n",
            "\n",
            "\n",
            "Reading sample2.txt line by line:\n",
            "Mahool pura wavyy\n",
            "B.Tech Aiml 6th Sem\n",
            "<--.|.-->\n"
          ]
        }
      ]
    },
    {
      "cell_type": "markdown",
      "source": [
        "# Program 2 : Illustrate use of Append mode"
      ],
      "metadata": {
        "id": "ncA_HnviJVzN"
      }
    },
    {
      "cell_type": "markdown",
      "source": [
        "  Appending to a file ('a' mode)\n"
      ],
      "metadata": {
        "id": "s8dNTib0JJIB"
      }
    },
    {
      "cell_type": "code",
      "source": [
        "with open('sample1.txt', 'a') as file:\n",
        "    file.write(\"Appended line 1\\n\")\n",
        "    file.write(\"Appended line 2\\n\")\n",
        "    file.write(\"Appended line 3\\n\")\n",
        "\n",
        "print(\"Content appended to sample1.txt\")"
      ],
      "metadata": {
        "colab": {
          "base_uri": "https://localhost:8080/"
        },
        "id": "T8TQ5fJFJAOb",
        "outputId": "25d2562e-bad1-4a55-e90d-37d74e87a887"
      },
      "execution_count": 3,
      "outputs": [
        {
          "output_type": "stream",
          "name": "stdout",
          "text": [
            "Content appended to sample1.txt\n"
          ]
        }
      ]
    },
    {
      "cell_type": "markdown",
      "source": [
        "Reading all lines from file"
      ],
      "metadata": {
        "id": "2_OqxVf_JOzB"
      }
    },
    {
      "cell_type": "code",
      "source": [
        "print(\"\\nReading all lines from sample1.txt into a list:\")\n",
        "with open('sample1.txt', 'r') as file:\n",
        "    lines = file.readlines()\n",
        "    for i, line in enumerate(lines, 1):\n",
        "        print(f\"Line {i}: {line.strip()}\")"
      ],
      "metadata": {
        "colab": {
          "base_uri": "https://localhost:8080/"
        },
        "id": "7fSqkiAOJGsx",
        "outputId": "00ef8b71-6061-4cb2-dc60-92eaa2b1947a"
      },
      "execution_count": 4,
      "outputs": [
        {
          "output_type": "stream",
          "name": "stdout",
          "text": [
            "\n",
            "Reading all lines from sample1.txt into a list:\n",
            "Line 1: Hello, this is Aakash with Roll No.: 2211002\n",
            "Line 2: Jack Sparrow : Call me Captain Savyyy.\n",
            "Line 3: ExCommunicado - John Wick\n",
            "Line 4: Appended line 1\n",
            "Line 5: Appended line 2\n",
            "Line 6: Appended line 3\n"
          ]
        }
      ]
    },
    {
      "cell_type": "markdown",
      "source": [
        "# Program 3 : Bubble Sort"
      ],
      "metadata": {
        "id": "O1lgy5i2d-5G"
      }
    },
    {
      "cell_type": "code",
      "source": [
        "def bubble_sort(arr):\n",
        "    n = len(arr)\n",
        "\n",
        "    for i in range(n):\n",
        "        for j in range(0, n-i-1):\n",
        "            if arr[j] > arr[j+1]:\n",
        "                arr[j], arr[j+1] = arr[j+1], arr[j]\n",
        "\n",
        "    return arr"
      ],
      "metadata": {
        "id": "ztaQwgRmeEVg"
      },
      "execution_count": 5,
      "outputs": []
    },
    {
      "cell_type": "code",
      "source": [
        "numbers = [27, 7, 25, 12, 77, 2, 90]\n",
        "names = [\"Aakash\", \"Jack\", \"Sparrow\", \"Jardani \\\"Jonathan\\\" Jovanovich\", \"John Snow\",\"Anirudh\"]\n",
        "\n",
        "print(\"Original numbers:\", numbers)\n",
        "sorted_numbers = bubble_sort(numbers.copy())\n",
        "print(\"Sorted numbers:\", sorted_numbers)\n",
        "\n",
        "print(\"\\nOriginal names:\", names)\n",
        "sorted_names = bubble_sort(names.copy())\n",
        "print(\"Sorted names:\", sorted_names)"
      ],
      "metadata": {
        "colab": {
          "base_uri": "https://localhost:8080/"
        },
        "id": "684fiQC6U6n9",
        "outputId": "75ea9dbb-4cfa-4fe6-9d00-fec97ac00611"
      },
      "execution_count": 6,
      "outputs": [
        {
          "output_type": "stream",
          "name": "stdout",
          "text": [
            "Original numbers: [27, 7, 25, 12, 77, 2, 90]\n",
            "Sorted numbers: [2, 7, 12, 25, 27, 77, 90]\n",
            "\n",
            "Original names: ['Aakash', 'Jack', 'Sparrow', 'Jardani \"Jonathan\" Jovanovich', 'John Snow', 'Anirudh']\n",
            "Sorted names: ['Aakash', 'Anirudh', 'Jack', 'Jardani \"Jonathan\" Jovanovich', 'John Snow', 'Sparrow']\n"
          ]
        }
      ]
    },
    {
      "cell_type": "markdown",
      "source": [
        "# Program 4 : Selection Sort Algorithm"
      ],
      "metadata": {
        "id": "7JYA3TqpfE3P"
      }
    },
    {
      "cell_type": "code",
      "source": [
        "def selection_sort(arr):\n",
        "    n = len(arr)\n",
        "\n",
        "    for i in range(n):\n",
        "        min_id = i\n",
        "        for j in range(i+1, n):\n",
        "            if arr[j] < arr[min_id]:\n",
        "                min_id = j\n",
        "\n",
        "        # Swap minimum with first element\n",
        "        arr[i], arr[min_id] = arr[min_id], arr[i]\n",
        "\n",
        "    return arr"
      ],
      "metadata": {
        "id": "ZxJLfNAee1ym"
      },
      "execution_count": 7,
      "outputs": []
    },
    {
      "cell_type": "code",
      "source": [
        "numbers = [27, 7, 25, 12, 77, 2, 90]\n",
        "names = [\"Aakash\", \"Jack\", \"Sparrow\", \"Jardani \\\"Jonathan\\\" Jovanovich\", \"John Snow\"]\n",
        "\n",
        "print(\"Original numbers:\", numbers)\n",
        "sorted_numbers = selection_sort(numbers.copy())\n",
        "print(\"Sorted numbers:\", sorted_numbers)\n",
        "\n",
        "print(\"\\nOriginal names:\", names)\n",
        "sorted_names = selection_sort(names.copy())\n",
        "print(\"Sorted names:\", sorted_names)"
      ],
      "metadata": {
        "colab": {
          "base_uri": "https://localhost:8080/"
        },
        "id": "WTQ4ncD-UxDv",
        "outputId": "fadcf63c-29f9-4083-ac4a-7d5d923d2524"
      },
      "execution_count": 8,
      "outputs": [
        {
          "output_type": "stream",
          "name": "stdout",
          "text": [
            "Original numbers: [27, 7, 25, 12, 77, 2, 90]\n",
            "Sorted numbers: [2, 7, 12, 25, 27, 77, 90]\n",
            "\n",
            "Original names: ['Aakash', 'Jack', 'Sparrow', 'Jardani \"Jonathan\" Jovanovich', 'John Snow']\n",
            "Sorted names: ['Aakash', 'Jack', 'Jardani \"Jonathan\" Jovanovich', 'John Snow', 'Sparrow']\n"
          ]
        }
      ]
    },
    {
      "cell_type": "markdown",
      "source": [
        "# Program 5 : Merge Sort Algorithm"
      ],
      "metadata": {
        "id": "0KAI_4nAfS-1"
      }
    },
    {
      "cell_type": "code",
      "source": [
        "def merge_sort(arr):\n",
        "    if len(arr) > 1:\n",
        "        mid = len(arr) // 2\n",
        "\n",
        "        left_half = arr[:mid]\n",
        "        right_half = arr[mid:]\n",
        "\n",
        "        merge_sort(left_half)\n",
        "        merge_sort(right_half)\n",
        "\n",
        "        # COmbine both sorted halves\n",
        "        i = j = k = 0\n",
        "\n",
        "        while i < len(left_half) and j < len(right_half):\n",
        "            if left_half[i] < right_half[j]:\n",
        "                arr[k] = left_half[i]\n",
        "                i += 1\n",
        "            else:\n",
        "                arr[k] = right_half[j]\n",
        "                j += 1\n",
        "            k += 1\n",
        "        while i < len(left_half):\n",
        "            arr[k] = left_half[i]\n",
        "            i += 1\n",
        "            k += 1\n",
        "        while j < len(right_half):\n",
        "            arr[k] = right_half[j]\n",
        "            j += 1\n",
        "            k += 1\n",
        "\n",
        "    return arr"
      ],
      "metadata": {
        "id": "vR2cPhUHfYb1"
      },
      "execution_count": 9,
      "outputs": []
    },
    {
      "cell_type": "code",
      "source": [
        "numbers = [27, 7, 25, 12, 77, 2, 90]\n",
        "names = [\"Aakash\", \"Jack\", \"Sparrow\", \"Jardani \\\"Jonathan\\\" Jovanovich\", \"John Snow\"]\n",
        "ids = [2211002, 272727, 100007, 987654, 989898]\n",
        "\n",
        "print(\"Original numbers:\", numbers)\n",
        "sorted_numbers = merge_sort(numbers.copy())\n",
        "print(\"Sorted numbers:\", sorted_numbers)\n",
        "\n",
        "print(\"\\nOriginal names:\", names)\n",
        "sorted_names = merge_sort(names.copy())\n",
        "print(\"Sorted names:\", sorted_names)\n",
        "\n",
        "print(\"\\nOriginal IDs:\", ids)\n",
        "sorted_ids = merge_sort(ids.copy())\n",
        "print(\"Sorted IDs:\", sorted_ids)"
      ],
      "metadata": {
        "colab": {
          "base_uri": "https://localhost:8080/"
        },
        "id": "sLBndezbUpBs",
        "outputId": "4dc339e3-91d6-4dc6-81c1-1a4ca5b62e5f"
      },
      "execution_count": 10,
      "outputs": [
        {
          "output_type": "stream",
          "name": "stdout",
          "text": [
            "Original numbers: [27, 7, 25, 12, 77, 2, 90]\n",
            "Sorted numbers: [2, 7, 12, 25, 27, 77, 90]\n",
            "\n",
            "Original names: ['Aakash', 'Jack', 'Sparrow', 'Jardani \"Jonathan\" Jovanovich', 'John Snow']\n",
            "Sorted names: ['Aakash', 'Jack', 'Jardani \"Jonathan\" Jovanovich', 'John Snow', 'Sparrow']\n",
            "\n",
            "Original IDs: [2211002, 272727, 100007, 987654, 989898]\n",
            "Sorted IDs: [100007, 272727, 987654, 989898, 2211002]\n"
          ]
        }
      ]
    },
    {
      "cell_type": "markdown",
      "source": [
        "# Program 6 : Quick Sort Algorithm"
      ],
      "metadata": {
        "id": "Pf7l-jgXfhum"
      }
    },
    {
      "cell_type": "code",
      "source": [
        "def partition(array, low, high):\n",
        "    # choose the rightmost element as pivot\n",
        "    pivot = array[high]\n",
        "\n",
        "    # pointer for greater element\n",
        "    i = low - 1\n",
        "    for j in range(low, high):\n",
        "        if array[j] <= pivot:\n",
        "            i = i + 1\n",
        "            (array[i], array[j]) = (array[j], array[i])\n",
        "\n",
        "    (array[i + 1], array[high]) = (array[high], array[i + 1])\n",
        "    return i + 1\n",
        "\n",
        "def quick_sort(array, low=0, high=None):\n",
        "    if high is None:\n",
        "        high = len(array) - 1\n",
        "    if low < high:\n",
        "        pi = partition(array, low, high)\n",
        "        quick_sort(array, low, pi - 1)\n",
        "        quick_sort(array, pi + 1, high)\n",
        "    return array"
      ],
      "metadata": {
        "id": "9qDHI-tCfvos"
      },
      "execution_count": 11,
      "outputs": []
    },
    {
      "cell_type": "code",
      "source": [
        "numbers = [27, 7, 25, 12, 77, 2, 90]\n",
        "names = [\"Aakash\", \"Jack\", \"Sparrow\", \"Jardani \\\"Jonathan\\\" Jovanovich\", \"John Snow\"]\n",
        "\n",
        "print(\"Original numbers :\", numbers)\n",
        "print(\"Sorted numbers :\", quick_sort(numbers.copy()))\n",
        "\n",
        "print(\"\\nOriginal names :\", names)\n",
        "print(\"Sorted names :\", quick_sort(names.copy()))\n"
      ],
      "metadata": {
        "colab": {
          "base_uri": "https://localhost:8080/"
        },
        "id": "NHOqQSBbUga_",
        "outputId": "f6d01bcc-51f3-41aa-80e0-3d38d686e8d4"
      },
      "execution_count": 12,
      "outputs": [
        {
          "output_type": "stream",
          "name": "stdout",
          "text": [
            "Original numbers : [27, 7, 25, 12, 77, 2, 90]\n",
            "Sorted numbers : [2, 7, 12, 25, 27, 77, 90]\n",
            "\n",
            "Original names : ['Aakash', 'Jack', 'Sparrow', 'Jardani \"Jonathan\" Jovanovich', 'John Snow']\n",
            "Sorted names : ['Aakash', 'Jack', 'Jardani \"Jonathan\" Jovanovich', 'John Snow', 'Sparrow']\n"
          ]
        }
      ]
    },
    {
      "cell_type": "markdown",
      "source": [
        "# Program 7 :  Statistics"
      ],
      "metadata": {
        "id": "J62E7MHHgPRO"
      }
    },
    {
      "cell_type": "code",
      "source": [
        "import math\n",
        "from collections import Counter"
      ],
      "metadata": {
        "id": "nq5JmqsJRk4R"
      },
      "execution_count": 13,
      "outputs": []
    },
    {
      "cell_type": "code",
      "source": [
        "from collections import Counter\n",
        "import math\n",
        "\n",
        "def calculate_mean(data):\n",
        "    return sum(data) / len(data)\n",
        "\n",
        "def calculate_median(data):\n",
        "    sorted_data = sorted(data)\n",
        "    n = len(sorted_data)\n",
        "    if n % 2 == 1:\n",
        "        return sorted_data[n // 2]\n",
        "    else:\n",
        "        return (sorted_data[n // 2 - 1] + sorted_data[n // 2]) / 2\n",
        "\n",
        "def calculate_mode(data):\n",
        "    counts = Counter(data)\n",
        "    max_count = max(counts.values())\n",
        "    modes = [k for k, v in counts.items() if v == max_count]\n",
        "    return sorted(modes)  # Return sorted list of all modes\n",
        "\n",
        "def calculate_variance(data, sample=True):\n",
        "    mean = sum(data) / len(data)\n",
        "    n = len(data)\n",
        "    temp_var = 0.0\n",
        "\n",
        "    if sample and n > 1:\n",
        "        for x in data:\n",
        "            temp_var += (x - mean) ** 2\n",
        "        var = temp_var / (n - 1)\n",
        "    else:\n",
        "        for x in data:\n",
        "            temp_var += (x - mean) ** 2\n",
        "        var = temp_var / n\n",
        "    return var\n",
        "\n",
        "def calculate_std_dev(data, sample=True):\n",
        "    return math.sqrt(calculate_variance(data, sample))\n",
        "\n",
        "def calculate_summary_statistics(data):\n",
        "    stats = {\n",
        "        'mean': calculate_mean(data),\n",
        "        'median': calculate_median(data),\n",
        "        'mode': calculate_mode(data),\n",
        "        'variance': calculate_variance(data),\n",
        "        'standard_deviation': calculate_std_dev(data),\n",
        "        'sample_size': len(data),\n",
        "        'minimum': min(data),\n",
        "        'maximum': max(data),\n",
        "        'range': max(data) - min(data)\n",
        "    }\n",
        "    return stats\n",
        "\n",
        "def print_statistics(stats):\n",
        "    print(\"\\nSummary Statistics:\")\n",
        "    print(f\"Mean: {stats['mean']:.4f}\")\n",
        "    print(f\"Median: {stats['median']:.4f}\")\n",
        "    print(f\"Mode(s): {', '.join(map(str, stats['mode']))}\")\n",
        "    print(f\"Variance: {stats['variance']:.4f}\")\n",
        "    print(f\"Standard Deviation: {stats['standard_deviation']:.4f}\")\n",
        "    print(f\"Sample Size: {stats['sample_size']}\")\n",
        "    print(f\"Minimum: {stats['minimum']}\")\n",
        "    print(f\"Maximum: {stats['maximum']}\")\n",
        "    print(f\"Range: {stats['range']}\")"
      ],
      "metadata": {
        "id": "FpMwfKvngSNu"
      },
      "execution_count": 14,
      "outputs": []
    },
    {
      "cell_type": "code",
      "source": [
        "# Numeric data examples\n",
        "numbers = [27, 7, 25, 12, 77, 2, 90, 12, 25, 12,7,7]\n",
        "student_ids = [2211002, 272727, 100007, 987654, 989898, 2211002]\n",
        "\n",
        "# Calculate statistics\n",
        "numbers_stats = calculate_summary_statistics(numbers)\n",
        "ids_stats = calculate_summary_statistics(student_ids)\n",
        "\n",
        "# Print results\n",
        "print(\"For numbers data:\", numbers)\n",
        "print_statistics(numbers_stats)\n",
        "\n",
        "print(\"\\nFor student IDs data:\", student_ids)\n",
        "print_statistics(ids_stats)"
      ],
      "metadata": {
        "colab": {
          "base_uri": "https://localhost:8080/"
        },
        "id": "zVX8X4UNRqTm",
        "outputId": "12a8c898-e326-479d-8b2c-fc466622b47a"
      },
      "execution_count": 15,
      "outputs": [
        {
          "output_type": "stream",
          "name": "stdout",
          "text": [
            "For numbers data: [27, 7, 25, 12, 77, 2, 90, 12, 25, 12, 7, 7]\n",
            "\n",
            "Summary Statistics:\n",
            "Mean: 25.2500\n",
            "Median: 12.0000\n",
            "Mode(s): 7, 12\n",
            "Variance: 812.7500\n",
            "Standard Deviation: 28.5088\n",
            "Sample Size: 12\n",
            "Minimum: 2\n",
            "Maximum: 90\n",
            "Range: 88\n",
            "\n",
            "For student IDs data: [2211002, 272727, 100007, 987654, 989898, 2211002]\n",
            "\n",
            "Summary Statistics:\n",
            "Mean: 1128715.0000\n",
            "Median: 988776.0000\n",
            "Mode(s): 2211002\n",
            "Variance: 834562854271.2000\n",
            "Standard Deviation: 913544.1173\n",
            "Sample Size: 6\n",
            "Minimum: 100007\n",
            "Maximum: 2211002\n",
            "Range: 2110995\n"
          ]
        }
      ]
    },
    {
      "cell_type": "markdown",
      "source": [
        "# Program 10 : Matplotlib"
      ],
      "metadata": {
        "id": "HX5jw--GQ4zD"
      }
    },
    {
      "cell_type": "code",
      "execution_count": 16,
      "metadata": {
        "id": "9SU8dHIY_O4E"
      },
      "outputs": [],
      "source": [
        "import matplotlib.pyplot as plt"
      ]
    },
    {
      "cell_type": "markdown",
      "source": [
        "**1. Line Plot**"
      ],
      "metadata": {
        "id": "RauYYkrF_aJG"
      }
    },
    {
      "cell_type": "code",
      "source": [
        "# Data\n",
        "x = [1, 2, 3, 4, 5]\n",
        "y = [1, 4, 9, 16, 25]\n",
        "\n",
        "# Create a line plot\n",
        "plt.plot(x, y)\n",
        "\n",
        "# Add labels and title\n",
        "plt.xlabel('X-axis')\n",
        "plt.ylabel('Y-axis')\n",
        "plt.title('Basic Line Plot')\n",
        "\n",
        "# Show the plot\n",
        "plt.show()"
      ],
      "metadata": {
        "colab": {
          "base_uri": "https://localhost:8080/",
          "height": 472
        },
        "id": "fLHgsQg-_WLa",
        "outputId": "48c4e1d2-9282-4cbc-e5f4-be4a5bb2bd20"
      },
      "execution_count": 17,
      "outputs": [
        {
          "output_type": "display_data",
          "data": {
            "text/plain": [
              "<Figure size 640x480 with 1 Axes>"
            ],
            "image/png": "[encoded data removed]"
          },
          "metadata": {}
        }
      ]
    },
    {
      "cell_type": "markdown",
      "source": [
        "**2. Scatter Plot**"
      ],
      "metadata": {
        "id": "MJZPDyBU_dYF"
      }
    },
    {
      "cell_type": "code",
      "source": [
        "# Data\n",
        "x = [1, 2, 3, 4, 5]\n",
        "y = [1, 4, 9, 16, 25]\n",
        "\n",
        "# Create a scatter plot\n",
        "plt.scatter(x, y, color='red')\n",
        "\n",
        "# Add labels and title\n",
        "plt.xlabel('X-axis')\n",
        "plt.ylabel('Y-axis')\n",
        "plt.title('Scatter Plot')\n",
        "\n",
        "# Show the plot\n",
        "plt.show()"
      ],
      "metadata": {
        "colab": {
          "base_uri": "https://localhost:8080/",
          "height": 472
        },
        "id": "bb5LgaYW_hR1",
        "outputId": "8100ce58-6a3e-43f7-f4ad-ba8ba484de08"
      },
      "execution_count": 18,
      "outputs": [
        {
          "output_type": "display_data",
          "data": {
            "text/plain": [
              "<Figure size 640x480 with 1 Axes>"
            ],
            "image/png": "[encoded data removed]"
          },
          "metadata": {}
        }
      ]
    },
    {
      "cell_type": "markdown",
      "source": [
        "**3. Bar Chart**"
      ],
      "metadata": {
        "id": "OSAxKCBz_iUi"
      }
    },
    {
      "cell_type": "code",
      "source": [
        "# Data\n",
        "categories = ['A', 'B', 'C', 'D']\n",
        "values = [3, 7, 5, 9]\n",
        "\n",
        "# Create a bar chart\n",
        "plt.bar(categories, values)\n",
        "\n",
        "# Add labels and title\n",
        "plt.xlabel('Categories')\n",
        "plt.ylabel('Values')\n",
        "plt.title('Bar Chart')\n",
        "\n",
        "# Show the plot\n",
        "plt.show()"
      ],
      "metadata": {
        "colab": {
          "base_uri": "https://localhost:8080/",
          "height": 472
        },
        "id": "QikP6_y4_kZ3",
        "outputId": "daf57996-08e2-4544-8f99-cb55d75b93bf"
      },
      "execution_count": 19,
      "outputs": [
        {
          "output_type": "display_data",
          "data": {
            "text/plain": [
              "<Figure size 640x480 with 1 Axes>"
            ],
            "image/png": "[encoded data removed]"
          },
          "metadata": {}
        }
      ]
    },
    {
      "cell_type": "markdown",
      "source": [
        "**4. Histogram**"
      ],
      "metadata": {
        "id": "rcaZ7oCF_pKU"
      }
    },
    {
      "cell_type": "code",
      "source": [
        "import numpy as np\n",
        "\n",
        "# Data: 1000 random numbers from a normal distribution\n",
        "data = np.random.randn(1000)\n",
        "\n",
        "# Create a histogram\n",
        "plt.hist(data, bins=30, edgecolor='black')\n",
        "\n",
        "# Add labels and title\n",
        "plt.xlabel('Value')\n",
        "plt.ylabel('Frequency')\n",
        "plt.title('Histogram')\n",
        "\n",
        "# Show the plot\n",
        "plt.show()"
      ],
      "metadata": {
        "colab": {
          "base_uri": "https://localhost:8080/",
          "height": 472
        },
        "id": "dlJ4Jwjf_sAm",
        "outputId": "12b417e5-069b-4189-b8bb-f65c95c78013"
      },
      "execution_count": 20,
      "outputs": [
        {
          "output_type": "display_data",
          "data": {
            "text/plain": [
              "<Figure size 640x480 with 1 Axes>"
            ],
            "image/png": "[encoded data removed]"
          },
          "metadata": {}
        }
      ]
    },
    {
      "cell_type": "markdown",
      "source": [
        "**5. Pie Chart**"
      ],
      "metadata": {
        "id": "u3-bB87j_ukK"
      }
    },
    {
      "cell_type": "code",
      "source": [
        "# Data\n",
        "sizes = [10, 20, 30, 40]\n",
        "labels = ['A', 'B', 'C', 'D']\n",
        "\n",
        "# Create a pie chart\n",
        "plt.pie(sizes, labels=labels, autopct='%1.1f%%')\n",
        "\n",
        "# Title\n",
        "plt.title('Pie Chart')\n",
        "\n",
        "# Show the plot\n",
        "plt.show()"
      ],
      "metadata": {
        "colab": {
          "base_uri": "https://localhost:8080/",
          "height": 428
        },
        "id": "9KHhDt_i_x33",
        "outputId": "95e60917-9e8a-40ff-8b66-db125e1a32c4"
      },
      "execution_count": 21,
      "outputs": [
        {
          "output_type": "display_data",
          "data": {
            "text/plain": [
              "<Figure size 640x480 with 1 Axes>"
            ],
            "image/png": "[encoded data removed]"
          },
          "metadata": {}
        }
      ]
    },
    {
      "cell_type": "markdown",
      "source": [
        "**6. Customizing Plots**"
      ],
      "metadata": {
        "id": "zUDJ6qMO_1jU"
      }
    },
    {
      "cell_type": "code",
      "source": [
        "# Data\n",
        "x = [1, 2, 3, 4, 5]\n",
        "y = [1, 4, 9, 16, 25]\n",
        "\n",
        "# Customizing plot style\n",
        "plt.plot(x, y, color='green', linestyle='--', marker='o', markersize=8)\n",
        "\n",
        "# Add labels and title\n",
        "plt.xlabel('X-axis')\n",
        "plt.ylabel('Y-axis')\n",
        "plt.title('Customized Line Plot')\n",
        "\n",
        "plt.grid(True)\n",
        "\n",
        "# Show the plot\n",
        "plt.show()"
      ],
      "metadata": {
        "colab": {
          "base_uri": "https://localhost:8080/",
          "height": 472
        },
        "id": "y52-QDUP_1VA",
        "outputId": "e6d431a2-bdae-43c4-95db-457fcbb2fdf7"
      },
      "execution_count": 22,
      "outputs": [
        {
          "output_type": "display_data",
          "data": {
            "text/plain": [
              "<Figure size 640x480 with 1 Axes>"
            ],
            "image/png": "[encoded data removed]"
          },
          "metadata": {}
        }
      ]
    },
    {
      "cell_type": "markdown",
      "source": [
        "**7. Saving Plots**"
      ],
      "metadata": {
        "id": "TS8ung_fAKrX"
      }
    },
    {
      "cell_type": "code",
      "source": [
        "# Create a simple plot\n",
        "plt.plot(x, y)\n",
        "\n",
        "# Save the plot as a PNG file\n",
        "plt.savefig('plot.png')\n",
        "\n",
        "# Show the plot\n",
        "plt.show()"
      ],
      "metadata": {
        "colab": {
          "base_uri": "https://localhost:8080/",
          "height": 430
        },
        "id": "8NO59a5JAHhE",
        "outputId": "c06126d8-c09f-4c55-e478-87490f421476"
      },
      "execution_count": 23,
      "outputs": [
        {
          "output_type": "display_data",
          "data": {
            "text/plain": [
              "<Figure size 640x480 with 1 Axes>"
            ],
            "image/png": "[encoded data removed]"
          },
          "metadata": {}
        }
      ]
    }
  ]
}